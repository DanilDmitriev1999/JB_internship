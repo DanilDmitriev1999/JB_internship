{
  "nbformat": 4,
  "nbformat_minor": 0,
  "metadata": {
    "colab": {
      "name": "inference.ipynb",
      "provenance": [],
      "collapsed_sections": []
    },
    "kernelspec": {
      "name": "python3",
      "display_name": "Python 3"
    },
    "language_info": {
      "name": "python"
    },
    "accelerator": "GPU"
  },
  "cells": [
    {
      "cell_type": "markdown",
      "metadata": {
        "id": "eBmsFXSjaQd6"
      },
      "source": [
        "# Техническая часть"
      ]
    },
    {
      "cell_type": "code",
      "metadata": {
        "id": "PidYKXpBaM7u"
      },
      "source": [
        "!pip install -q sentencepiece\n",
        "import sentencepiece\n",
        "!pip -q install datasets\n",
        "!pip install -q transformers\n",
        "!pip install -q comet_ml\n",
        "import comet_ml\n",
        "!pip install -q pytorch-lightning\n",
        "!git clone -q https://github.com/DanilDmitriev1999/JB_internship"
      ],
      "execution_count": null,
      "outputs": []
    },
    {
      "cell_type": "code",
      "metadata": {
        "id": "WQL06pKwaTnp"
      },
      "source": [
        "import warnings\n",
        "warnings.filterwarnings('ignore')\n",
        "\n",
        "from datasets import load_dataset\n",
        "\n",
        "import re\n",
        "\n",
        "import numpy as np\n",
        "from pprint import pprint\n",
        "from typing import List\n",
        "import collections\n",
        "import seaborn as sns\n",
        "import matplotlib.pyplot as plt\n",
        "import random\n",
        "\n",
        "import math\n",
        "from sklearn.metrics import accuracy_score, f1_score, classification_report, confusion_matrix\n",
        "\n",
        "from sklearn.model_selection import train_test_split\n",
        "\n",
        "import torch\n",
        "import torch.nn as nn\n",
        "import torch.nn.functional as F\n",
        "import torch.optim as optim\n",
        "from torch.utils.data import DataLoader, Dataset, TensorDataset,\n",
        "\n",
        "from transformers import AutoTokenizer, AutoModel, AdamW\n",
        "\n",
        "\n",
        "import pytorch_lightning as pl\n",
        "from pytorch_lightning.loggers import CometLogger\n",
        "from pytorch_lightning import Trainer, seed_everything\n",
        "\n",
        "from JB_internship.DataModule.CastomDataset import *\n",
        "from JB_internship.DataModule.DataPrepare import *\n",
        "from JB_internship.models.DebertaLayerCat import *\n",
        "from JB_internship.models.RobertaLayerCat import *\n",
        "from JB_internship.models.Roberta import *\n",
        "from JB_internship.utils.trainer import *\n",
        "from JB_internship.loss.FocalLoss import *\n",
        "\n",
        "\n",
        "seed_everything(294)\n",
        "device = 'cuda' if torch.cuda.is_available() else 'cpu'\n",
        "print(device)"
      ],
      "execution_count": null,
      "outputs": []
    },
    {
      "cell_type": "markdown",
      "metadata": {
        "id": "NlX-IU85c8A9"
      },
      "source": [
        "# Данные"
      ]
    },
    {
      "cell_type": "code",
      "metadata": {
        "id": "g77UhggJbD4E"
      },
      "source": [
        "dt = DataExplorer(model_name='microsoft/deberta-base', undersampling=True)\n",
        "train_data, valid_data, test_data = dt.train_val_test_split()\n",
        "tokenizer = dt.tokenizer\n",
        "\n",
        "\n",
        "train_iter = DataLoader(dataset=CastomDataModule(train_data, tokenizer),\n",
        "                        batch_size=32, shuffle=True)\n",
        "val_iter = DataLoader(dataset=CastomDataModule(valid_data, tokenizer),\n",
        "                        batch_size=32)\n",
        "test_iter = DataLoader(dataset=CastomDataModule(test_data, tokenizer),\n",
        "                        batch_size=64)"
      ],
      "execution_count": null,
      "outputs": []
    },
    {
      "cell_type": "markdown",
      "metadata": {
        "id": "6Z6kA_KJd7Zw"
      },
      "source": [
        "# Model"
      ]
    },
    {
      "cell_type": "code",
      "metadata": {
        "id": "FiEzxMEzeNKX"
      },
      "source": [
        "N_EPOCHS = 5\n",
        "n_layers = [6, 7, 8]\n",
        "CLIP = 1\n",
        "\n",
        "deberta = DebertaLayerCat('microsoft/deberta-base', n_layers)\n",
        "criterion = FocalLoss().to(device)\n",
        "\n",
        "model = ModelTrainer(deberta,\n",
        "                    criterion,\n",
        "                    ).to(device)\n",
        "\n",
        "trainer = Trainer(max_epochs=N_EPOCHS,\n",
        "                gpus=1,\n",
        "                gradient_clip_val=CLIP,\n",
        "                progress_bar_refresh_rate=1,\n",
        "                log_every_n_steps=3,\n",
        "                )"
      ],
      "execution_count": null,
      "outputs": []
    },
    {
      "cell_type": "code",
      "metadata": {
        "id": "PrWoIGU3hLBQ"
      },
      "source": [
        "trainer.fit(model, train_iter, val_iter)"
      ],
      "execution_count": null,
      "outputs": []
    },
    {
      "cell_type": "markdown",
      "metadata": {
        "id": "OzQBis9qjZC8"
      },
      "source": [
        "# test"
      ]
    },
    {
      "cell_type": "code",
      "metadata": {
        "id": "crXgp_fVhX17"
      },
      "source": [
        "def report(l, p):\n",
        "    flatten = lambda t: [item for sublist in t for item in sublist]\n",
        "    l_n = [i for i in flatten(l)]\n",
        "    p_n = [i for i in flatten(p)]\n",
        "\n",
        "    print(classification_report(l_n, p_n))\n",
        "\n",
        "def confis_mtrx(l, p):\n",
        "    flatten = lambda t: [item for sublist in t for item in sublist]\n",
        "    l_n = [i for i in flatten(l)]\n",
        "    p_n = [i for i in flatten(p)]\n",
        "\n",
        "    print(confusion_matrix(l_n, p_n))\n",
        "\n",
        "trainer.test(model, test_iter)"
      ],
      "execution_count": null,
      "outputs": []
    },
    {
      "cell_type": "code",
      "metadata": {
        "colab": {
          "base_uri": "https://localhost:8080/"
        },
        "id": "eQhkT4ybjfxc",
        "outputId": "804f11fe-d330-4ad2-b62d-3ec3759b5f3b"
      },
      "source": [
        "pr = model.res\n",
        "l = pr['label']\n",
        "p = pr['pred']\n",
        "report(l, p)\n",
        "confis_mtrx(l, p)\n",
        "model.res = {'pred':[], 'label':[]}"
      ],
      "execution_count": null,
      "outputs": [
        {
          "output_type": "stream",
          "text": [
            "              precision    recall  f1-score   support\n",
            "\n",
            "           0       0.99      0.98      0.99      5945\n",
            "           1       0.79      0.81      0.80       448\n",
            "\n",
            "    accuracy                           0.97      6393\n",
            "   macro avg       0.89      0.90      0.89      6393\n",
            "weighted avg       0.97      0.97      0.97      6393\n",
            "\n",
            "[[5851   94]\n",
            " [  84  364]]\n"
          ],
          "name": "stdout"
        }
      ]
    },
    {
      "cell_type": "markdown",
      "metadata": {
        "id": "_XreLSK2bqaO"
      },
      "source": [
        "# Save Model"
      ]
    },
    {
      "cell_type": "code",
      "metadata": {
        "id": "MX7jmdMVbs6P"
      },
      "source": [
        "from comet_ml import Experiment"
      ],
      "execution_count": null,
      "outputs": []
    },
    {
      "cell_type": "code",
      "metadata": {
        "id": "XeLFuAjmJ12K"
      },
      "source": [
        "name = 'DeBERTa'"
      ],
      "execution_count": null,
      "outputs": []
    },
    {
      "cell_type": "code",
      "metadata": {
        "id": "2qYj46FkjkcT"
      },
      "source": [
        "trainer.save_checkpoint(f\"/content/save_models/{name}.ckpt\")"
      ],
      "execution_count": null,
      "outputs": []
    },
    {
      "cell_type": "code",
      "metadata": {
        "id": "DZf5D8kzbuh_"
      },
      "source": [
        "experiment = Experiment(\n",
        "    api_key='HWfJT3eyByVJWe4nEbi1pGosA', project_name='jetbrainsinternship',workspace='danildmitriev1999')"
      ],
      "execution_count": null,
      "outputs": []
    },
    {
      "cell_type": "code",
      "metadata": {
        "id": "f4J2Yu8-bv_g"
      },
      "source": [
        "experiment.log_model(\"DeBERTa-JB\", f\"/content/save_models/{name}.ckpt\")"
      ],
      "execution_count": null,
      "outputs": []
    },
    {
      "cell_type": "code",
      "metadata": {
        "id": "KWMzZBUbJOig"
      },
      "source": [
        ""
      ],
      "execution_count": null,
      "outputs": []
    }
  ]
}